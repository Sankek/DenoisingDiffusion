{
 "cells": [
  {
   "cell_type": "markdown",
   "id": "bTXiSEye7dsH",
   "metadata": {
    "id": "bTXiSEye7dsH"
   },
   "source": [
    "## Preparing"
   ]
  },
  {
   "cell_type": "code",
   "execution_count": null,
   "id": "c1e23196-bf7c-4363-8848-d72438d19cdd",
   "metadata": {
    "colab": {
     "base_uri": "https://localhost:8080/"
    },
    "id": "c1e23196-bf7c-4363-8848-d72438d19cdd",
    "outputId": "c79c1582-ca07-49e7-8305-7b85d37bc5a0",
    "tags": []
   },
   "outputs": [],
   "source": [
    "!git init .\n",
    "!git remote add -f origin \"https://github.com/Sankek/DenoisingDiffusion\"\n",
    "!git pull origin master"
   ]
  },
  {
   "cell_type": "code",
   "execution_count": null,
   "id": "lnY1bS3lzVrJ",
   "metadata": {
    "colab": {
     "base_uri": "https://localhost:8080/"
    },
    "id": "lnY1bS3lzVrJ",
    "outputId": "03aba6c4-1fe6-4766-93c1-02fa6a7b9ac6",
    "tags": []
   },
   "outputs": [],
   "source": [
    "from google.colab import drive\n",
    "drive.mount('/content/drive')"
   ]
  },
  {
   "cell_type": "code",
   "execution_count": null,
   "id": "UGDl1ZsO0KXl",
   "metadata": {
    "id": "UGDl1ZsO0KXl"
   },
   "outputs": [],
   "source": [
    "# unzipping archive with ~50% of open ImageNet images \n",
    "!unzip \"/content/drive/MyDrive/Projects/ImageInpainting/dataset/train_64x64.tar\" > /dev/null\n",
    "!mv train_64x64 train_set"
   ]
  },
  {
   "cell_type": "code",
   "execution_count": null,
   "id": "652f498a-ee19-453f-8ab8-c8ea178a9065",
   "metadata": {
    "id": "652f498a-ee19-453f-8ab8-c8ea178a9065"
   },
   "outputs": [],
   "source": [
    "# Since Google Colab removed the ability to connect to Google Drive from \n",
    "# a non-current account, there is some hack that still allows you to do this.\n",
    "#\n",
    "# You need to follow the link that will appear in the output and login to the \n",
    "# account that owns the desired Google Drive.\n",
    "#\n",
    "# After that, you need to run the next cell.\n",
    "#\n",
    "# https://stackoverflow.com/questions/69819761/i-cant-mount-my-another-drive-in-google-colab/70797774#70797774\n",
    "\n",
    "!sudo add-apt-repository -y ppa:alessandro-strada/ppa 2>&1 > /dev/null\n",
    "!sudo apt-get update -qq 2>&1 > /dev/null\n",
    "!sudo apt -y install -qq google-drive-ocamlfuse 2>&1 > /dev/null\n",
    "!google-drive-ocamlfuse"
   ]
  },
  {
   "cell_type": "code",
   "execution_count": null,
   "id": "0f10f5f1-50e1-4b51-b5b2-d9fc031a3867",
   "metadata": {
    "id": "0f10f5f1-50e1-4b51-b5b2-d9fc031a3867"
   },
   "outputs": [],
   "source": [
    "!sudo apt-get install -qq w3m # to act as web browser \n",
    "!xdg-settings set default-web-browser w3m.desktop # to set default browser\n",
    "%cd /content\n",
    "!mkdir drive\n",
    "%cd drive\n",
    "!mkdir MyDrive\n",
    "%cd ..\n",
    "%cd ..\n",
    "!google-drive-ocamlfuse /content/drive/MyDrive\n",
    "%cd /content"
   ]
  },
  {
   "cell_type": "markdown",
   "id": "sB2rTMEH71R7",
   "metadata": {
    "id": "sB2rTMEH71R7"
   },
   "source": [
    "## Go"
   ]
  },
  {
   "cell_type": "code",
   "execution_count": null,
   "id": "7VAeb-gU7muu",
   "metadata": {
    "id": "7VAeb-gU7muu"
   },
   "outputs": [],
   "source": [
    "import numpy as np\n",
    "import matplotlib.pyplot as plt\n",
    "import torch\n",
    "from torch.utils.data import DataLoader\n",
    "\n",
    "from tqdm.notebook import tqdm\n",
    "\n",
    "from data import DiffusionDataset\n",
    "from model import DiffusionNet\n",
    "from losses import InpaintingLoss\n",
    "from utils import save_state, load_state, tensor2image, smooth1d"
   ]
  },
  {
   "cell_type": "code",
   "execution_count": null,
   "id": "f6c682c3-9ba9-4569-a797-a156adb47759",
   "metadata": {
    "colab": {
     "base_uri": "https://localhost:8080/"
    },
    "id": "f6c682c3-9ba9-4569-a797-a156adb47759",
    "outputId": "c8e62635-04f2-46d6-cdea-5253ca0ff3ca"
   },
   "outputs": [],
   "source": [
    "DEVICE = torch.device('cuda' if torch.cuda.is_available() else 'cpu')\n",
    "!nvidia-smi"
   ]
  },
  {
   "cell_type": "code",
   "execution_count": null,
   "id": "RvGZzPsg78bm",
   "metadata": {
    "id": "RvGZzPsg78bm"
   },
   "outputs": [],
   "source": [
    "batch_size = 16\n",
    "\n",
    "dataset_mean = [0.5]*3 \n",
    "dataset_std = [0.5]*3 \n",
    "dataset = DiffusionDataset('train_set', dataset_mean=dataset_mean, dataset_std=dataset_std)\n",
    "dataloader = DataLoader(dataset, batch_size=batch_size, pin_memory=True, shuffle=True)"
   ]
  },
  {
   "cell_type": "code",
   "execution_count": null,
   "id": "i5aad9gH8t-N",
   "metadata": {
    "colab": {
     "base_uri": "https://localhost:8080/",
     "height": 215
    },
    "id": "i5aad9gH8t-N",
    "outputId": "f4951f98-a30b-4031-ff2b-74780608d51c"
   },
   "outputs": [],
   "source": [
    "def plot_examples():\n",
    "    fig, axs = plt.subplots(3, 5, figsize=(8, 5.5))\n",
    "    for col in range(5):\n",
    "        noised_img, t, noise = dataset[col]\n",
    "        alpha_prod_sqrt = dataset.variance_schedule.alpha_prod_sqrt[t]\n",
    "        alpha_prod_inv_sqrt = dataset.variance_schedule.alpha_prod_inv_sqrt[t]\n",
    "        original_img = 1/alpha_prod_sqrt * (noised_img - alpha_prod_inv_sqrt*noise)\n",
    "        \n",
    "        for i, im in enumerate([original_img, noise, noised_img]):\n",
    "            axs[i, col].imshow(tensor2image(im, dataset_mean, dataset_std))\n",
    "            axs[i, col].axis('off')\n",
    "        axs[0, col].set_title(f'$x_0$', fontsize=20)\n",
    "        axs[2, col].set_title(f'$x_{{{t}}}$', fontsize=20)\n",
    "        \n",
    "    plt.show()\n",
    "plot_examples()"
   ]
  },
  {
   "cell_type": "code",
   "execution_count": 4,
   "id": "700d9f17-0b6f-4ab0-a78e-1e304b14f2c6",
   "metadata": {},
   "outputs": [
    {
     "data": {
      "text/plain": [
       "tensor([3, 3])"
      ]
     },
     "execution_count": 4,
     "metadata": {},
     "output_type": "execute_result"
    }
   ],
   "source": [
    "import torch\n"
   ]
  },
  {
   "cell_type": "code",
   "execution_count": null,
   "id": "e599f6d8-7a7c-4a22-8f07-610225c64440",
   "metadata": {},
   "outputs": [],
   "source": [
    "def generate_images(model, variance_schedule, num=1, image_size=64, channels=3, device='cpu'):\n",
    "    shape = [num, channels, image_size, image_size]\n",
    "    x_t = torch.normal(torch.zeros(shape), torch.ones(shape)).to(device)\n",
    "    Tmax = variance_schedule.Tmax\n",
    "    for t in range(Tmax, -1, -1):\n",
    "        if t>0:\n",
    "            z = torch.normal(torch.zeros(shape), torch.ones(shape)).to(device)\n",
    "        else:\n",
    "            z = 0\n",
    "            \n",
    "        with torch.no_grad():\n",
    "            pred_noise = model(x_t, torch.full((num,), t).to(device))\n",
    "            \n",
    "        alpha = variance_schedule.alpha[t]\n",
    "        variance = variance_schedule.variance[t]\n",
    "        alpha_prod_inv_sqrt = variance_schedule.alpha_prod_inv_sqrt[t]\n",
    "        \n",
    "        x_t = 1/alpha**(1/2) * (x_t - variance/alpha_prod_inv_sqrt * pred_noise) + variance**(1/2) * z\n",
    "        \n",
    "    return x_t.to('cpu')"
   ]
  },
  {
   "cell_type": "code",
   "execution_count": null,
   "id": "-sboehFc_7Va",
   "metadata": {
    "id": "-sboehFc_7Va"
   },
   "outputs": [],
   "source": [
    "from IPython.display import clear_output\n",
    "\n",
    "\n",
    "def train_step_graph(test_images, generated_images, gt_test_images, epoch_losses,\n",
    "                     examples_suptitle_text='', losses_suptitle_text='', losses_smooth_window=25):\n",
    "    num_examples = len(generated_images)\n",
    "    \n",
    "    fig, axs = plt.subplots(1, num_examples, figsize=(num_examples*3, 3), squeeze=False)\n",
    "    for i in range(num_examples):\n",
    "        axs[0, i].imshow(test_images[i])\n",
    "        axs[0, i].set_title('Generated Image')\n",
    "        axs[0, i].axis('off')\n",
    "    plt.suptitle(examples_suptitle_text)\n",
    "    fig.tight_layout(pad=2)\n",
    "    plt.show()\n",
    "\n",
    "    fig, ax = plt.subplots(figsize=(5, 5))\n",
    "    ax.plot(smooth1d(np.array(epoch_losses), losses_smooth_window), label='G_losses')\n",
    "    ax.legend()\n",
    "    plt.suptitle(losses_suptitle_text)\n",
    "    plt.show()\n",
    "\n",
    "def train(model, optimizer, dataloader, criterion, variance_schedule, dataset_mean, dataset_std,  \n",
    "          epochs=1, graph_show_interval=10, losses_smooth_window=25, device='cpu',\n",
    "          trained_iters=0, save_interval=10000, save_folder='.', save_name='baseline'):\n",
    "    \n",
    "\n",
    "    # списки лоссов за все эпохи\n",
    "    losses = []\n",
    "    for epoch in range(epochs):\n",
    "        # списки лоссов за все батчи в эпохе\n",
    "        epoch_losses = []\n",
    "\n",
    "        for batch_num, (noised_img, t, noise) in enumerate(dataloader):\n",
    "            model.train()\n",
    "    \n",
    "            noised_img = noised_img.to(device)\n",
    "            t = t.to(device)\n",
    "            noise = noise.to(device)\n",
    "            \n",
    "            pred_noise = model(noised_img, t)\n",
    "            loss = criterion(output, target)\n",
    "            epoch_losses.append(loss.item())\n",
    "\n",
    "            optimizer.zero_grad()\n",
    "            loss.backward()\n",
    "            optimizer.step()\n",
    "            trained_iters += input.shape[0]\n",
    "\n",
    "            losses_save_interval = batch_size\n",
    "            if (trained_iters % save_interval) < batch_size:\n",
    "                save_state(save_folder, f'{save_name}_{trained_iters}', model, optimizer, trained_iters, epoch_losses, losses_save_interval)\n",
    "\n",
    "\n",
    "            # Example images and losses graph \n",
    "            # -----------------------------------\n",
    "            if batch_num % graph_show_interval == 0:\n",
    "                losses_suptitle_text = f\"Epoch: {epoch+1}, {batch_num+1}/{len(dataloader)}\"\n",
    "                examples_suptitle_text = f\"loss: {loss:.5f}\"\n",
    "\n",
    "                model.eval()\n",
    "                genims = generate_images(model, variance_schedule, num=5, device=device) # TODO: dataset dependency\n",
    "                generated_images = [tensor2image(genim, dataset_mean, dataset_std) for genim in genims]\n",
    "                \n",
    "                clear_output(wait=True)\n",
    "                train_step_graph(\n",
    "                    test_images, generated_images, epoch_losses, \n",
    "                    examples_suptitle_text, losses_suptitle_text, losses_smooth_window\n",
    "                )\n",
    "            # -----------------------------------\n",
    "\n",
    "        epoch_loss = sum(epoch_losses)/len(dataloader)\n",
    "        losses.append(epoch_loss)\n",
    "        \n",
    "    return losses"
   ]
  },
  {
   "cell_type": "code",
   "execution_count": null,
   "id": "e-K7O11O046x",
   "metadata": {
    "colab": {
     "base_uri": "https://localhost:8080/",
     "height": 66,
     "referenced_widgets": [
      "475b7a8d4ac1404ea952d15562b8dd9e",
      "99a4e9d55f80462698b0723e64af16a5",
      "4815daa055534565933e8cd68bbc19f9",
      "07d3b370deed4e15ba77f3825019a3aa",
      "e937ac5d21754d9794ff51b1418a3c8d",
      "1b8c6ac3c1d2442fb47c874e6cd70a59",
      "c11e4d6ec53a4e0e94fff4af51e40a8d",
      "20390ebeebbe40a98100505cb72877b6",
      "c518fa97e56d44a2ab4c316736a4cb3f",
      "ca85a759e9f5416b8aad038bce5b87de",
      "ba1a5845f69a46a9af28cbe0767a9ab2"
     ]
    },
    "id": "e-K7O11O046x",
    "outputId": "1c113392-1c3e-405f-c896-ee0255163203"
   },
   "outputs": [],
   "source": [
    "lr = 2e-4\n",
    "\n",
    "model = DiffusionNet().to(DEVICE)\n",
    "trained_iters=0\n",
    "save_folder = '/content/drive/MyDrive/Projects/DenoisingDiffusion/saved'\n",
    "\n",
    "# prev_state = load_state(save_folder, 'baseline_')\n",
    "# model = prev_state['model']\n",
    "# model.load_state_dict(prev_state['model_state'])\n",
    "optimizer = torch.optim.Adam(model.parameters(), lr=lr)\n",
    "# optimizer = prev_state['optimizer'] # issue\n",
    "optimizer.load_state_dict(prev_state['optimizer_state'])\n",
    "trained_iters = prev_state['trained_iters']\n",
    "\n",
    "criterion = nn.MSELoss()\n",
    "\n",
    "save_name ='v2_finetune'"
   ]
  },
  {
   "cell_type": "markdown",
   "id": "-WAhC5p7FGeo",
   "metadata": {
    "id": "-WAhC5p7FGeo"
   },
   "source": [
    "## Training"
   ]
  },
  {
   "cell_type": "code",
   "execution_count": null,
   "id": "LWZSSm-JEhO5",
   "metadata": {
    "colab": {
     "base_uri": "https://localhost:8080/",
     "height": 1000
    },
    "id": "LWZSSm-JEhO5",
    "outputId": "c82d4211-139a-416e-fb7a-7ac0e79f4e22"
   },
   "outputs": [],
   "source": [
    "losses = train(\n",
    "    model, optimizer, dataloader, criterion, dataset.variance_schedule, dataset_mean, dataset_std, \n",
    "    epochs=1, device=DEVICE, trained_iters=trained_iters, save_folder=save_folder, \n",
    "    save_name=save_name, losses_smooth_window=2000, graph_show_interval=500\n",
    ")"
   ]
  },
  {
   "cell_type": "code",
   "execution_count": null,
   "id": "mAXbrrhRkcL0",
   "metadata": {
    "id": "mAXbrrhRkcL0"
   },
   "outputs": [],
   "source": []
  }
 ],
 "metadata": {
  "accelerator": "GPU",
  "colab": {
   "collapsed_sections": [
    "bTXiSEye7dsH",
    "sB2rTMEH71R7"
   ],
   "name": "ImageInpainting",
   "provenance": []
  },
  "gpuClass": "standard",
  "kernelspec": {
   "display_name": "Python 3 (ipykernel)",
   "language": "python",
   "name": "python3"
  },
  "language_info": {
   "codemirror_mode": {
    "name": "ipython",
    "version": 3
   },
   "file_extension": ".py",
   "mimetype": "text/x-python",
   "name": "python",
   "nbconvert_exporter": "python",
   "pygments_lexer": "ipython3",
   "version": "3.8.13"
  },
  "widgets": {
   "application/vnd.jupyter.widget-state+json": {
    "07d3b370deed4e15ba77f3825019a3aa": {
     "model_module": "@jupyter-widgets/controls",
     "model_module_version": "1.5.0",
     "model_name": "HTMLModel",
     "state": {
      "_dom_classes": [],
      "_model_module": "@jupyter-widgets/controls",
      "_model_module_version": "1.5.0",
      "_model_name": "HTMLModel",
      "_view_count": null,
      "_view_module": "@jupyter-widgets/controls",
      "_view_module_version": "1.5.0",
      "_view_name": "HTMLView",
      "description": "",
      "description_tooltip": null,
      "layout": "IPY_MODEL_ca85a759e9f5416b8aad038bce5b87de",
      "placeholder": "​",
      "style": "IPY_MODEL_ba1a5845f69a46a9af28cbe0767a9ab2",
      "value": " 528M/528M [00:37&lt;00:00, 15.4MB/s]"
     }
    },
    "1b8c6ac3c1d2442fb47c874e6cd70a59": {
     "model_module": "@jupyter-widgets/base",
     "model_module_version": "1.2.0",
     "model_name": "LayoutModel",
     "state": {
      "_model_module": "@jupyter-widgets/base",
      "_model_module_version": "1.2.0",
      "_model_name": "LayoutModel",
      "_view_count": null,
      "_view_module": "@jupyter-widgets/base",
      "_view_module_version": "1.2.0",
      "_view_name": "LayoutView",
      "align_content": null,
      "align_items": null,
      "align_self": null,
      "border": null,
      "bottom": null,
      "display": null,
      "flex": null,
      "flex_flow": null,
      "grid_area": null,
      "grid_auto_columns": null,
      "grid_auto_flow": null,
      "grid_auto_rows": null,
      "grid_column": null,
      "grid_gap": null,
      "grid_row": null,
      "grid_template_areas": null,
      "grid_template_columns": null,
      "grid_template_rows": null,
      "height": null,
      "justify_content": null,
      "justify_items": null,
      "left": null,
      "margin": null,
      "max_height": null,
      "max_width": null,
      "min_height": null,
      "min_width": null,
      "object_fit": null,
      "object_position": null,
      "order": null,
      "overflow": null,
      "overflow_x": null,
      "overflow_y": null,
      "padding": null,
      "right": null,
      "top": null,
      "visibility": null,
      "width": null
     }
    },
    "20390ebeebbe40a98100505cb72877b6": {
     "model_module": "@jupyter-widgets/base",
     "model_module_version": "1.2.0",
     "model_name": "LayoutModel",
     "state": {
      "_model_module": "@jupyter-widgets/base",
      "_model_module_version": "1.2.0",
      "_model_name": "LayoutModel",
      "_view_count": null,
      "_view_module": "@jupyter-widgets/base",
      "_view_module_version": "1.2.0",
      "_view_name": "LayoutView",
      "align_content": null,
      "align_items": null,
      "align_self": null,
      "border": null,
      "bottom": null,
      "display": null,
      "flex": null,
      "flex_flow": null,
      "grid_area": null,
      "grid_auto_columns": null,
      "grid_auto_flow": null,
      "grid_auto_rows": null,
      "grid_column": null,
      "grid_gap": null,
      "grid_row": null,
      "grid_template_areas": null,
      "grid_template_columns": null,
      "grid_template_rows": null,
      "height": null,
      "justify_content": null,
      "justify_items": null,
      "left": null,
      "margin": null,
      "max_height": null,
      "max_width": null,
      "min_height": null,
      "min_width": null,
      "object_fit": null,
      "object_position": null,
      "order": null,
      "overflow": null,
      "overflow_x": null,
      "overflow_y": null,
      "padding": null,
      "right": null,
      "top": null,
      "visibility": null,
      "width": null
     }
    },
    "475b7a8d4ac1404ea952d15562b8dd9e": {
     "model_module": "@jupyter-widgets/controls",
     "model_module_version": "1.5.0",
     "model_name": "HBoxModel",
     "state": {
      "_dom_classes": [],
      "_model_module": "@jupyter-widgets/controls",
      "_model_module_version": "1.5.0",
      "_model_name": "HBoxModel",
      "_view_count": null,
      "_view_module": "@jupyter-widgets/controls",
      "_view_module_version": "1.5.0",
      "_view_name": "HBoxView",
      "box_style": "",
      "children": [
       "IPY_MODEL_99a4e9d55f80462698b0723e64af16a5",
       "IPY_MODEL_4815daa055534565933e8cd68bbc19f9",
       "IPY_MODEL_07d3b370deed4e15ba77f3825019a3aa"
      ],
      "layout": "IPY_MODEL_e937ac5d21754d9794ff51b1418a3c8d"
     }
    },
    "4815daa055534565933e8cd68bbc19f9": {
     "model_module": "@jupyter-widgets/controls",
     "model_module_version": "1.5.0",
     "model_name": "FloatProgressModel",
     "state": {
      "_dom_classes": [],
      "_model_module": "@jupyter-widgets/controls",
      "_model_module_version": "1.5.0",
      "_model_name": "FloatProgressModel",
      "_view_count": null,
      "_view_module": "@jupyter-widgets/controls",
      "_view_module_version": "1.5.0",
      "_view_name": "ProgressView",
      "bar_style": "success",
      "description": "",
      "description_tooltip": null,
      "layout": "IPY_MODEL_20390ebeebbe40a98100505cb72877b6",
      "max": 553433881,
      "min": 0,
      "orientation": "horizontal",
      "style": "IPY_MODEL_c518fa97e56d44a2ab4c316736a4cb3f",
      "value": 553433881
     }
    },
    "99a4e9d55f80462698b0723e64af16a5": {
     "model_module": "@jupyter-widgets/controls",
     "model_module_version": "1.5.0",
     "model_name": "HTMLModel",
     "state": {
      "_dom_classes": [],
      "_model_module": "@jupyter-widgets/controls",
      "_model_module_version": "1.5.0",
      "_model_name": "HTMLModel",
      "_view_count": null,
      "_view_module": "@jupyter-widgets/controls",
      "_view_module_version": "1.5.0",
      "_view_name": "HTMLView",
      "description": "",
      "description_tooltip": null,
      "layout": "IPY_MODEL_1b8c6ac3c1d2442fb47c874e6cd70a59",
      "placeholder": "​",
      "style": "IPY_MODEL_c11e4d6ec53a4e0e94fff4af51e40a8d",
      "value": "100%"
     }
    },
    "ba1a5845f69a46a9af28cbe0767a9ab2": {
     "model_module": "@jupyter-widgets/controls",
     "model_module_version": "1.5.0",
     "model_name": "DescriptionStyleModel",
     "state": {
      "_model_module": "@jupyter-widgets/controls",
      "_model_module_version": "1.5.0",
      "_model_name": "DescriptionStyleModel",
      "_view_count": null,
      "_view_module": "@jupyter-widgets/base",
      "_view_module_version": "1.2.0",
      "_view_name": "StyleView",
      "description_width": ""
     }
    },
    "c11e4d6ec53a4e0e94fff4af51e40a8d": {
     "model_module": "@jupyter-widgets/controls",
     "model_module_version": "1.5.0",
     "model_name": "DescriptionStyleModel",
     "state": {
      "_model_module": "@jupyter-widgets/controls",
      "_model_module_version": "1.5.0",
      "_model_name": "DescriptionStyleModel",
      "_view_count": null,
      "_view_module": "@jupyter-widgets/base",
      "_view_module_version": "1.2.0",
      "_view_name": "StyleView",
      "description_width": ""
     }
    },
    "c518fa97e56d44a2ab4c316736a4cb3f": {
     "model_module": "@jupyter-widgets/controls",
     "model_module_version": "1.5.0",
     "model_name": "ProgressStyleModel",
     "state": {
      "_model_module": "@jupyter-widgets/controls",
      "_model_module_version": "1.5.0",
      "_model_name": "ProgressStyleModel",
      "_view_count": null,
      "_view_module": "@jupyter-widgets/base",
      "_view_module_version": "1.2.0",
      "_view_name": "StyleView",
      "bar_color": null,
      "description_width": ""
     }
    },
    "ca85a759e9f5416b8aad038bce5b87de": {
     "model_module": "@jupyter-widgets/base",
     "model_module_version": "1.2.0",
     "model_name": "LayoutModel",
     "state": {
      "_model_module": "@jupyter-widgets/base",
      "_model_module_version": "1.2.0",
      "_model_name": "LayoutModel",
      "_view_count": null,
      "_view_module": "@jupyter-widgets/base",
      "_view_module_version": "1.2.0",
      "_view_name": "LayoutView",
      "align_content": null,
      "align_items": null,
      "align_self": null,
      "border": null,
      "bottom": null,
      "display": null,
      "flex": null,
      "flex_flow": null,
      "grid_area": null,
      "grid_auto_columns": null,
      "grid_auto_flow": null,
      "grid_auto_rows": null,
      "grid_column": null,
      "grid_gap": null,
      "grid_row": null,
      "grid_template_areas": null,
      "grid_template_columns": null,
      "grid_template_rows": null,
      "height": null,
      "justify_content": null,
      "justify_items": null,
      "left": null,
      "margin": null,
      "max_height": null,
      "max_width": null,
      "min_height": null,
      "min_width": null,
      "object_fit": null,
      "object_position": null,
      "order": null,
      "overflow": null,
      "overflow_x": null,
      "overflow_y": null,
      "padding": null,
      "right": null,
      "top": null,
      "visibility": null,
      "width": null
     }
    },
    "e937ac5d21754d9794ff51b1418a3c8d": {
     "model_module": "@jupyter-widgets/base",
     "model_module_version": "1.2.0",
     "model_name": "LayoutModel",
     "state": {
      "_model_module": "@jupyter-widgets/base",
      "_model_module_version": "1.2.0",
      "_model_name": "LayoutModel",
      "_view_count": null,
      "_view_module": "@jupyter-widgets/base",
      "_view_module_version": "1.2.0",
      "_view_name": "LayoutView",
      "align_content": null,
      "align_items": null,
      "align_self": null,
      "border": null,
      "bottom": null,
      "display": null,
      "flex": null,
      "flex_flow": null,
      "grid_area": null,
      "grid_auto_columns": null,
      "grid_auto_flow": null,
      "grid_auto_rows": null,
      "grid_column": null,
      "grid_gap": null,
      "grid_row": null,
      "grid_template_areas": null,
      "grid_template_columns": null,
      "grid_template_rows": null,
      "height": null,
      "justify_content": null,
      "justify_items": null,
      "left": null,
      "margin": null,
      "max_height": null,
      "max_width": null,
      "min_height": null,
      "min_width": null,
      "object_fit": null,
      "object_position": null,
      "order": null,
      "overflow": null,
      "overflow_x": null,
      "overflow_y": null,
      "padding": null,
      "right": null,
      "top": null,
      "visibility": null,
      "width": null
     }
    }
   }
  }
 },
 "nbformat": 4,
 "nbformat_minor": 5
}
