{
  "cells": [
    {
      "cell_type": "markdown",
      "source": [
        "## Preparing"
      ],
      "metadata": {
        "id": "MWITHXzcQvaC"
      },
      "id": "MWITHXzcQvaC"
    },
    {
      "cell_type": "code",
      "source": [
        "# Since Google Colab removed the ability to connect to Google Drive from \n",
        "# a non-current account, there is some hack that still allows you to do this.\n",
        "#\n",
        "# You need to follow the link that will appear in the output and login to the \n",
        "# account that owns the desired Google Drive.\n",
        "#\n",
        "# After that, you need to run the next cell.\n",
        "#\n",
        "# https://stackoverflow.com/questions/69819761/i-cant-mount-my-another-drive-in-google-colab/70797774#70797774\n",
        "\n",
        "!sudo add-apt-repository -y ppa:alessandro-strada/ppa 2>&1 > /dev/null\n",
        "!sudo apt-get update -qq 2>&1 > /dev/null\n",
        "!sudo apt -y install -qq google-drive-ocamlfuse 2>&1 > /dev/null\n",
        "!google-drive-ocamlfuse"
      ],
      "metadata": {
        "id": "kQ0yxz3zkVXr"
      },
      "id": "kQ0yxz3zkVXr",
      "execution_count": null,
      "outputs": []
    },
    {
      "cell_type": "code",
      "source": [
        "!sudo apt-get install -qq w3m # to act as web browser \n",
        "!xdg-settings set default-web-browser w3m.desktop # to set default browser\n",
        "%cd /content\n",
        "!mkdir drive\n",
        "%cd drive\n",
        "!mkdir MyDrive\n",
        "%cd ..\n",
        "%cd ..\n",
        "!google-drive-ocamlfuse /content/drive/MyDrive\n",
        "%cd /content"
      ],
      "metadata": {
        "id": "Onylz_whkYNH"
      },
      "id": "Onylz_whkYNH",
      "execution_count": null,
      "outputs": []
    },
    {
      "cell_type": "code",
      "source": [
        "from google.colab import drive\n",
        "drive.mount('/content/drive')"
      ],
      "metadata": {
        "colab": {
          "base_uri": "https://localhost:8080/"
        },
        "id": "y163wcZ-ndRQ",
        "outputId": "bf41cf97-d8a2-43d8-cb18-ad9f2ff8b6bc"
      },
      "id": "y163wcZ-ndRQ",
      "execution_count": null,
      "outputs": [
        {
          "output_type": "stream",
          "name": "stdout",
          "text": [
            "Mounted at /content/drive\n"
          ]
        }
      ]
    },
    {
      "cell_type": "code",
      "source": [
        "import os\n",
        "import numpy as np\n",
        "import matplotlib.pyplot as plt\n",
        "from PIL import Image\n",
        "\n",
        "import torch\n",
        "\n",
        "from tqdm.notebook import tqdm"
      ],
      "metadata": {
        "id": "90p_XFW8qLUP"
      },
      "id": "90p_XFW8qLUP",
      "execution_count": null,
      "outputs": []
    },
    {
      "cell_type": "code",
      "source": [
        "!mkdir pytorch_fid\n",
        "!curl https://raw.githubusercontent.com/mseitzer/pytorch-fid/master/src/pytorch_fid/fid_score.py > pytorch_fid/fid_score.py\n",
        "!curl https://raw.githubusercontent.com/mseitzer/pytorch-fid/master/src/pytorch_fid/inception.py > pytorch_fid/inception.py"
      ],
      "metadata": {
        "id": "-gAeM48C4g4e",
        "colab": {
          "base_uri": "https://localhost:8080/"
        },
        "outputId": "ead9dd53-49ff-4981-c013-2476e51b271e"
      },
      "id": "-gAeM48C4g4e",
      "execution_count": null,
      "outputs": [
        {
          "output_type": "stream",
          "name": "stdout",
          "text": [
            "  % Total    % Received % Xferd  Average Speed   Time    Time     Time  Current\n",
            "                                 Dload  Upload   Total   Spent    Left  Speed\n",
            "100 10647  100 10647    0     0   106k      0 --:--:-- --:--:-- --:--:--  105k\n",
            "  % Total    % Received % Xferd  Average Speed   Time    Time     Time  Current\n",
            "                                 Dload  Upload   Total   Spent    Left  Speed\n",
            "100 12193  100 12193    0     0   154k      0 --:--:-- --:--:-- --:--:--  154k\n"
          ]
        }
      ]
    },
    {
      "cell_type": "code",
      "source": [
        "!unzip \"/content/drive/MyDrive/Projects/DenoisingDiffusion/dataset/CelebA.zip\" > /dev/null"
      ],
      "metadata": {
        "id": "Y8tx2NsaoBNP"
      },
      "id": "Y8tx2NsaoBNP",
      "execution_count": null,
      "outputs": []
    },
    {
      "cell_type": "code",
      "source": [
        "!git init .\n",
        "# !git remote add -f origin \"https://github.com/Sankek/ImageInpainting\"\n",
        "!git remote add -f origin \"https://github.com/Sankek/DenoisingDiffusion\"\n",
        "!git pull origin master\n",
        "\n",
        "from utils import generate_images, tensor2image\n",
        "from data import VarianceSchedule"
      ],
      "metadata": {
        "id": "nxOznP1xTPJ9",
        "colab": {
          "base_uri": "https://localhost:8080/"
        },
        "outputId": "b300c889-b740-4314-b3cd-60bd9adfcba1"
      },
      "id": "nxOznP1xTPJ9",
      "execution_count": null,
      "outputs": [
        {
          "output_type": "stream",
          "name": "stdout",
          "text": [
            "Initialized empty Git repository in /content/.git/\n",
            "Updating origin\n",
            "remote: Enumerating objects: 43, done.\u001b[K\n",
            "remote: Counting objects: 100% (43/43), done.\u001b[K\n",
            "remote: Compressing objects: 100% (33/33), done.\u001b[K\n",
            "remote: Total 43 (delta 14), reused 28 (delta 7), pack-reused 0\u001b[K\n",
            "Unpacking objects: 100% (43/43), done.\n",
            "From https://github.com/Sankek/DenoisingDiffusion\n",
            " * [new branch]      master     -> origin/master\n",
            "From https://github.com/Sankek/DenoisingDiffusion\n",
            " * branch            master     -> FETCH_HEAD\n"
          ]
        }
      ]
    },
    {
      "cell_type": "code",
      "source": [
        "!pip install denoising_diffusion_pytorch"
      ],
      "metadata": {
        "id": "nrD0UvFaTRQ6",
        "colab": {
          "base_uri": "https://localhost:8080/"
        },
        "outputId": "4220381d-0fea-4232-c625-8fa04881d9fa"
      },
      "id": "nrD0UvFaTRQ6",
      "execution_count": null,
      "outputs": [
        {
          "output_type": "stream",
          "name": "stdout",
          "text": [
            "Looking in indexes: https://pypi.org/simple, https://us-python.pkg.dev/colab-wheels/public/simple/\n",
            "Collecting denoising_diffusion_pytorch\n",
            "  Downloading denoising_diffusion_pytorch-0.26.5-py3-none-any.whl (19 kB)\n",
            "Collecting ema-pytorch\n",
            "  Downloading ema_pytorch-0.0.9-py3-none-any.whl (4.1 kB)\n",
            "Requirement already satisfied: pillow in /usr/local/lib/python3.7/dist-packages (from denoising_diffusion_pytorch) (7.1.2)\n",
            "Requirement already satisfied: torchvision in /usr/local/lib/python3.7/dist-packages (from denoising_diffusion_pytorch) (0.13.0+cu113)\n",
            "Collecting accelerate\n",
            "  Downloading accelerate-0.11.0-py3-none-any.whl (123 kB)\n",
            "\u001b[K     |████████████████████████████████| 123 kB 50.3 MB/s \n",
            "\u001b[?25hRequirement already satisfied: tqdm in /usr/local/lib/python3.7/dist-packages (from denoising_diffusion_pytorch) (4.64.0)\n",
            "Collecting einops\n",
            "  Downloading einops-0.4.1-py3-none-any.whl (28 kB)\n",
            "Requirement already satisfied: torch in /usr/local/lib/python3.7/dist-packages (from denoising_diffusion_pytorch) (1.12.0+cu113)\n",
            "Requirement already satisfied: packaging>=20.0 in /usr/local/lib/python3.7/dist-packages (from accelerate->denoising_diffusion_pytorch) (21.3)\n",
            "Requirement already satisfied: psutil in /usr/local/lib/python3.7/dist-packages (from accelerate->denoising_diffusion_pytorch) (5.4.8)\n",
            "Requirement already satisfied: numpy>=1.17 in /usr/local/lib/python3.7/dist-packages (from accelerate->denoising_diffusion_pytorch) (1.21.6)\n",
            "Requirement already satisfied: pyyaml in /usr/local/lib/python3.7/dist-packages (from accelerate->denoising_diffusion_pytorch) (3.13)\n",
            "Requirement already satisfied: pyparsing!=3.0.5,>=2.0.2 in /usr/local/lib/python3.7/dist-packages (from packaging>=20.0->accelerate->denoising_diffusion_pytorch) (3.0.9)\n",
            "Requirement already satisfied: typing-extensions in /usr/local/lib/python3.7/dist-packages (from torch->denoising_diffusion_pytorch) (4.1.1)\n",
            "Requirement already satisfied: requests in /usr/local/lib/python3.7/dist-packages (from torchvision->denoising_diffusion_pytorch) (2.23.0)\n",
            "Requirement already satisfied: urllib3!=1.25.0,!=1.25.1,<1.26,>=1.21.1 in /usr/local/lib/python3.7/dist-packages (from requests->torchvision->denoising_diffusion_pytorch) (1.24.3)\n",
            "Requirement already satisfied: chardet<4,>=3.0.2 in /usr/local/lib/python3.7/dist-packages (from requests->torchvision->denoising_diffusion_pytorch) (3.0.4)\n",
            "Requirement already satisfied: idna<3,>=2.5 in /usr/local/lib/python3.7/dist-packages (from requests->torchvision->denoising_diffusion_pytorch) (2.10)\n",
            "Requirement already satisfied: certifi>=2017.4.17 in /usr/local/lib/python3.7/dist-packages (from requests->torchvision->denoising_diffusion_pytorch) (2022.6.15)\n",
            "Installing collected packages: ema-pytorch, einops, accelerate, denoising-diffusion-pytorch\n",
            "Successfully installed accelerate-0.11.0 denoising-diffusion-pytorch-0.26.5 einops-0.4.1 ema-pytorch-0.0.9\n"
          ]
        }
      ]
    },
    {
      "cell_type": "markdown",
      "source": [
        "## FID"
      ],
      "metadata": {
        "id": "JENvL5QDQ1sv"
      },
      "id": "JENvL5QDQ1sv"
    },
    {
      "cell_type": "code",
      "source": [
        "evaluation_folder = '/content/drive/MyDrive/Projects/DenoisingDiffusion/evaluation'\n",
        "stats_path = '/content/drive/MyDrive/Projects/DenoisingDiffusion/evaluation/CelebA_128x128_statistics.npz'\n",
        "dataset_path = 'CelebA'\n",
        "save_folder = '/content/drive/MyDrive/Projects/DenoisingDiffusion/saved'\n",
        "batch_size = 100\n",
        "dims = 2048\n",
        "device = torch.device('cuda' if torch.cuda.is_available() else 'cpu')\n",
        "num_workers = 2"
      ],
      "metadata": {
        "id": "DA5dUN95SP4q"
      },
      "id": "DA5dUN95SP4q",
      "execution_count": null,
      "outputs": []
    },
    {
      "cell_type": "markdown",
      "source": [
        "### Compute dataset statistics"
      ],
      "metadata": {
        "id": "lxg-QCS1Sssk"
      },
      "id": "lxg-QCS1Sssk"
    },
    {
      "cell_type": "code",
      "source": [
        "from pytorch_fid.inception import InceptionV3\n",
        "from pytorch_fid.fid_score import compute_statistics_of_path\n",
        "\n",
        "def compute_statistics(images_path, save_path, batch_size, dims, device, num_workers=1):\n",
        "    block_idx = InceptionV3.BLOCK_INDEX_BY_DIM[dims]\n",
        "\n",
        "    model = InceptionV3([block_idx]).to(device)\n",
        "    m, s = compute_statistics_of_path(\n",
        "        images_path, model, batch_size, dims, device, num_workers=num_workers\n",
        "    )\n",
        "    np.savez(save_path, mu=m, sigma=s)\n",
        "\n",
        "compute_statistics(dataset_path, stats_path, batch_size, dims, device, num_workers)"
      ],
      "metadata": {
        "id": "eujynCIism5h"
      },
      "id": "eujynCIism5h",
      "execution_count": null,
      "outputs": []
    },
    {
      "cell_type": "markdown",
      "source": [
        "### Generate images"
      ],
      "metadata": {
        "id": "hJFkDXKAaSr2"
      },
      "id": "hJFkDXKAaSr2"
    },
    {
      "cell_type": "code",
      "source": [
        "from utils import generate_images, tensor2image\n",
        "from data import VarianceSchedule\n",
        "\n",
        "dataset_mean = [0.5]*3 \n",
        "dataset_std = [0.5]*3\n",
        "variance_schedule = VarianceSchedule(Tmax=1000)"
      ],
      "metadata": {
        "id": "nVMiCZ1F2e4Q"
      },
      "id": "nVMiCZ1F2e4Q",
      "execution_count": null,
      "outputs": []
    },
    {
      "cell_type": "code",
      "source": [
        "model_name = 'ddp_CelebA_3725001'\n",
        "model_path = os.path.join(save_folder, model_name, 'state.pth')\n",
        "state = torch.load(model_path, map_location=device)\n",
        "model = state['model']\n",
        "model.load_state_dict(state['model_state'])"
      ],
      "metadata": {
        "colab": {
          "base_uri": "https://localhost:8080/"
        },
        "id": "dpwuRgfE9Iqe",
        "outputId": "e40f1605-dbac-4f11-b203-6ccdc9a5ce4a"
      },
      "id": "dpwuRgfE9Iqe",
      "execution_count": null,
      "outputs": [
        {
          "output_type": "execute_result",
          "data": {
            "text/plain": [
              "<All keys matched successfully>"
            ]
          },
          "metadata": {},
          "execution_count": 37
        }
      ]
    },
    {
      "cell_type": "code",
      "source": [
        "generated_images_path = f'/content/drive/MyDrive/Projects/DenoisingDiffusion/evaluation/{model_name}'\n",
        "!mkdir {generated_images_path}"
      ],
      "metadata": {
        "id": "CgRGQ8Q4KyjF"
      },
      "id": "CgRGQ8Q4KyjF",
      "execution_count": null,
      "outputs": []
    },
    {
      "cell_type": "code",
      "source": [
        "gen_ims = generate_images(\n",
        "    model, variance_schedule, num=100, image_size=128, channels=3, device=device, reproducible=True, reproducible_seed=0\n",
        ")\n",
        "torch.cuda.empty_cache()"
      ],
      "metadata": {
        "id": "AYtxMatw9vKg"
      },
      "id": "AYtxMatw9vKg",
      "execution_count": null,
      "outputs": []
    },
    {
      "cell_type": "code",
      "source": [
        "for i, im in enumerate(tqdm(gen_ims)):\n",
        "    img = tensor2image(im, dataset_mean, dataset_std)\n",
        "    Image.fromarray((img*255).astype(np.uint8)).save(os.path.join(generated_images_path, f'{i}.jpg'))"
      ],
      "metadata": {
        "id": "9NU8VYGVVaix",
        "colab": {
          "base_uri": "https://localhost:8080/",
          "height": 49,
          "referenced_widgets": [
            "862f751b80ad4ae7924a92082c03c3e3",
            "b1a6f36f81144e2f9e1fe7520c011090",
            "12f303f0ec684a64ba2f5d79043a29fa",
            "867ab10261834cc397e918ccd1883eaf",
            "1e6d47df3db64de2aee055eaf0b22292",
            "c65e338de8c64cfe8b9a94235530566d",
            "4ad9a89558cf42508d35fb8f04ad0ef8",
            "71c214e9c433413b83d0c825affef062",
            "5f01e0875f804f10a20aa2df335b6d2b",
            "c61835c7e72b4577839517b38cc6b3e8",
            "c57a4930b2ae44d6a9deae7262ca77a6"
          ]
        },
        "outputId": "6153653d-884c-445d-bf73-cf02c7f7224a"
      },
      "id": "9NU8VYGVVaix",
      "execution_count": null,
      "outputs": [
        {
          "output_type": "display_data",
          "data": {
            "text/plain": [
              "  0%|          | 0/100 [00:00<?, ?it/s]"
            ],
            "application/vnd.jupyter.widget-view+json": {
              "version_major": 2,
              "version_minor": 0,
              "model_id": "862f751b80ad4ae7924a92082c03c3e3"
            }
          },
          "metadata": {}
        }
      ]
    },
    {
      "cell_type": "code",
      "source": [
        "# model_name = ['ddp_CelebA', 'ddp_CelebA_gradaccum5', 'ddp_CelebA_gradaccum25']\n",
        "# model_name = ['ddp_CelebA_gradaccum25']\n",
        "# model_name = ['ddp_CelebA', 'ddp_CelebA_gradaccum5']\n",
        "model_name = ['ddp_CelebA']\n",
        "states = list(filter(lambda x: x.rsplit('_', maxsplit=1)[0] in model_name, os.listdir(save_folder)))\n",
        "iters = list(map(lambda x: int(x.rsplit('_', maxsplit=1)[1]), states))\n",
        "\n",
        "argsort = np.argsort(iters)\n",
        "states = [states[i] for i in argsort]\n",
        "iters = [iters[i] for i in argsort]"
      ],
      "metadata": {
        "id": "RDDm3mKwHBIR"
      },
      "id": "RDDm3mKwHBIR",
      "execution_count": null,
      "outputs": []
    },
    {
      "cell_type": "code",
      "source": [
        "states[-1]"
      ],
      "metadata": {
        "colab": {
          "base_uri": "https://localhost:8080/",
          "height": 35
        },
        "id": "wZN_ALoXLXa4",
        "outputId": "b4123b42-12a3-4943-a8e7-f1251f52a417"
      },
      "id": "wZN_ALoXLXa4",
      "execution_count": null,
      "outputs": [
        {
          "output_type": "execute_result",
          "data": {
            "text/plain": [
              "'ddp_CelebA_3725001'"
            ],
            "application/vnd.google.colaboratory.intrinsic+json": {
              "type": "string"
            }
          },
          "metadata": {},
          "execution_count": 36
        }
      ]
    },
    {
      "cell_type": "markdown",
      "source": [
        "### Compute FID"
      ],
      "metadata": {
        "id": "xdjbS1VlaA7o"
      },
      "id": "xdjbS1VlaA7o"
    },
    {
      "cell_type": "code",
      "source": [
        "from pytorch_fid.fid_score import calculate_fid_given_paths\n",
        "\n",
        "title_dict = {}\n",
        "for name in os.listdir(evaluation_folder):\n",
        "    path = os.path.join(evaluation_folder, name)\n",
        "    if os.path.isdir(path):\n",
        "        iters = int(name.rsplit('_', maxsplit=1)[1])\n",
        "\n",
        "        fid_value = calculate_fid_given_paths(\n",
        "            [stats_path, path], batch_size, device, dims, num_workers\n",
        "        )\n",
        "        \n",
        "        title_dict[name] = dict(iters=iters, fid=fid_value)\n",
        "\n",
        "print(title_dict)"
      ],
      "metadata": {
        "id": "wANnu-2aaAYF",
        "colab": {
          "base_uri": "https://localhost:8080/"
        },
        "outputId": "25cb4c28-1dd2-4ed0-ddb4-ac839ba466c1"
      },
      "id": "wANnu-2aaAYF",
      "execution_count": null,
      "outputs": [
        {
          "output_type": "stream",
          "name": "stderr",
          "text": [
            "/usr/local/lib/python3.7/dist-packages/torchvision/models/_utils.py:209: UserWarning: The parameter 'pretrained' is deprecated since 0.13 and will be removed in 0.15, please use 'weights' instead.\n",
            "  f\"The parameter '{pretrained_param}' is deprecated since 0.13 and will be removed in 0.15, \"\n",
            "/usr/local/lib/python3.7/dist-packages/torchvision/models/_utils.py:223: UserWarning: Arguments other than a weight enum or `None` for 'weights' are deprecated since 0.13 and will be removed in 0.15. The current behavior is equivalent to passing `weights=None`.\n",
            "  warnings.warn(msg)\n",
            "100%|██████████| 1/1 [00:36<00:00, 36.91s/it]\n",
            "100%|██████████| 1/1 [00:56<00:00, 56.68s/it]\n",
            "100%|██████████| 1/1 [00:53<00:00, 53.76s/it]\n",
            "100%|██████████| 1/1 [00:44<00:00, 44.08s/it]\n",
            "100%|██████████| 1/1 [00:00<00:00,  1.43it/s]\n"
          ]
        },
        {
          "output_type": "stream",
          "name": "stdout",
          "text": [
            "{'ddp_CelebA_3300003': {'iters': 3300003, 'fid': 102.9262134219664}, 'ddp_CelebA_2150022': {'iters': 2150022, 'fid': 106.21885658475108}, 'ddp_CelebA_gradaccum25_5392812': {'iters': 5392812, 'fid': 86.0131471095907}, 'ddp_CelebA_gradaccum5_4375023': {'iters': 4375023, 'fid': 84.86194268680413}, 'ddp_CelebA_3725001': {'iters': 3725001, 'fid': 85.00820645043132}}\n"
          ]
        }
      ]
    },
    {
      "cell_type": "markdown",
      "source": [
        "## Plot images"
      ],
      "metadata": {
        "id": "v-hqT20_t7MS"
      },
      "id": "v-hqT20_t7MS"
    },
    {
      "cell_type": "code",
      "source": [
        "title_dict"
      ],
      "metadata": {
        "colab": {
          "base_uri": "https://localhost:8080/"
        },
        "id": "AdR_iirgexS9",
        "outputId": "a67da1e6-0a07-4139-d0e7-37cba7a57f1a"
      },
      "id": "AdR_iirgexS9",
      "execution_count": null,
      "outputs": [
        {
          "output_type": "execute_result",
          "data": {
            "text/plain": [
              "{'ddp_CelebA_2150022': {'fid': 106.21885658475108, 'iters': 2150022},\n",
              " 'ddp_CelebA_3300003': {'fid': 102.9262134219664, 'iters': 3300003},\n",
              " 'ddp_CelebA_3725001': {'fid': 85.00820645043132, 'iters': 3725001},\n",
              " 'ddp_CelebA_gradaccum25_5392812': {'fid': 86.0131471095907, 'iters': 5392812},\n",
              " 'ddp_CelebA_gradaccum5_4375023': {'fid': 84.86194268680413, 'iters': 4375023}}"
            ]
          },
          "metadata": {},
          "execution_count": 46
        }
      ]
    },
    {
      "cell_type": "code",
      "source": [
        "max_iters = max(map(lambda x: x['iters'], title_dict.values()))"
      ],
      "metadata": {
        "id": "r-1kARouexvJ"
      },
      "id": "r-1kARouexvJ",
      "execution_count": null,
      "outputs": []
    },
    {
      "cell_type": "code",
      "source": [
        "for state_name, state_values in title_dict.items():\n",
        "    fid = round(state_values['fid'], 2)\n",
        "    iters = state_values['iters']\n",
        "    percent = int(state_values['iters']/max_iters*100)\n",
        "\n",
        "    title = f\"{iters}/{max_iters} ({percent}%), FID = {fid}\"\n",
        "\n",
        "    dir_path = os.path.join(evaluation_folder, state_name)\n",
        "    imgs_names = sorted(os.listdir(dir_path))\n",
        "\n",
        "    imgs = []\n",
        "    for im in imgs_names:\n",
        "        imgs.append(Image.open(os.path.join(dir_path, im)))\n",
        "\n",
        "    fig, axs = plt.subplots(5, 20, figsize=(20, 5), squeeze=False)\n",
        "    for i, ax in enumerate(axs.ravel()):\n",
        "        ax.imshow(imgs[i])\n",
        "        ax.axis('off')\n",
        "    plt.subplots_adjust(wspace=0.05, hspace=0.05, left=0.05, right=0.95, top=0.90, bottom=0.05)\n",
        "    plt.suptitle(title, fontsize=20)\n",
        "    plt.savefig(f'graph_{iters}.jpg', dpi=300)\n",
        "\n",
        "    from google.colab import files\n",
        "    files.download(f'graph_{iters}.jpg') "
      ],
      "metadata": {
        "id": "wiRskBehfTK8"
      },
      "id": "wiRskBehfTK8",
      "execution_count": null,
      "outputs": []
    },
    {
      "cell_type": "code",
      "source": [
        "imgs[0]"
      ],
      "metadata": {
        "colab": {
          "base_uri": "https://localhost:8080/",
          "height": 145
        },
        "id": "0cJHgX9n5GOD",
        "outputId": "d7b432bf-99c9-409e-9080-785f693319ff"
      },
      "id": "0cJHgX9n5GOD",
      "execution_count": null,
      "outputs": [
        {
          "output_type": "execute_result",
          "data": {
            "text/plain": [
              "<PIL.JpegImagePlugin.JpegImageFile image mode=RGB size=128x128 at 0x7F7629EA4210>"
            ],
            "image/png": "[encoded data removed]"
          },
          "metadata": {},
          "execution_count": 38
        }
      ]
    },
    {
      "cell_type": "code",
      "source": [
        "from google.colab import files\n",
        "files.download(os.path.join(dir_path, imgs_names[0])) "
      ],
      "metadata": {
        "colab": {
          "base_uri": "https://localhost:8080/",
          "height": 17
        },
        "id": "-MXOEzqW5cNK",
        "outputId": "c495040b-66d2-4dbf-b98e-bb9ab6eec7c9"
      },
      "id": "-MXOEzqW5cNK",
      "execution_count": null,
      "outputs": [
        {
          "output_type": "display_data",
          "data": {
            "text/plain": [
              "<IPython.core.display.Javascript object>"
            ],
            "application/javascript": [
              "\n",
              "    async function download(id, filename, size) {\n",
              "      if (!google.colab.kernel.accessAllowed) {\n",
              "        return;\n",
              "      }\n",
              "      const div = document.createElement('div');\n",
              "      const label = document.createElement('label');\n",
              "      label.textContent = `Downloading \"${filename}\": `;\n",
              "      div.appendChild(label);\n",
              "      const progress = document.createElement('progress');\n",
              "      progress.max = size;\n",
              "      div.appendChild(progress);\n",
              "      document.body.appendChild(div);\n",
              "\n",
              "      const buffers = [];\n",
              "      let downloaded = 0;\n",
              "\n",
              "      const channel = await google.colab.kernel.comms.open(id);\n",
              "      // Send a message to notify the kernel that we're ready.\n",
              "      channel.send({})\n",
              "\n",
              "      for await (const message of channel.messages) {\n",
              "        // Send a message to notify the kernel that we're ready.\n",
              "        channel.send({})\n",
              "        if (message.buffers) {\n",
              "          for (const buffer of message.buffers) {\n",
              "            buffers.push(buffer);\n",
              "            downloaded += buffer.byteLength;\n",
              "            progress.value = downloaded;\n",
              "          }\n",
              "        }\n",
              "      }\n",
              "      const blob = new Blob(buffers, {type: 'application/binary'});\n",
              "      const a = document.createElement('a');\n",
              "      a.href = window.URL.createObjectURL(blob);\n",
              "      a.download = filename;\n",
              "      div.appendChild(a);\n",
              "      a.click();\n",
              "      div.remove();\n",
              "    }\n",
              "  "
            ]
          },
          "metadata": {}
        },
        {
          "output_type": "display_data",
          "data": {
            "text/plain": [
              "<IPython.core.display.Javascript object>"
            ],
            "application/javascript": [
              "download(\"download_0b083f34-67d8-44b6-b0c0-dc846e3c4543\", \"0.jpg\", 2622)"
            ]
          },
          "metadata": {}
        }
      ]
    },
    {
      "cell_type": "markdown",
      "source": [
        "## Losses"
      ],
      "metadata": {
        "id": "zZCp32PVZ45x"
      },
      "id": "zZCp32PVZ45x"
    },
    {
      "cell_type": "code",
      "execution_count": null,
      "id": "b9501d29-ff50-4e00-9b03-c6c92d12f5dd",
      "metadata": {
        "colab": {
          "base_uri": "https://localhost:8080/",
          "height": 49,
          "referenced_widgets": [
            "1299cb8087564b929377a5cef513846f",
            "9d5819e11ea54c26b23d8189ae4bc7c9",
            "2cd7ffede6de4f4594b30f747580a9aa",
            "ddb196debcf04622aa5674b56f5e531a",
            "91bccafaf1c44eaa826fdb120a7c0787",
            "5604298bb5034676a6608741b4bed266",
            "7edf2ca28c1d4b0cb12470331b9dd7b1",
            "c8b3d48954a7418ca22de9b4dcb4b1fa",
            "dd2392eaec704dc08e33a2d59b835d58",
            "928329f3537c450ea3e2b742673c0594",
            "b00dd3df59a24c74b8fb0a23e97db089"
          ]
        },
        "id": "b9501d29-ff50-4e00-9b03-c6c92d12f5dd",
        "outputId": "344ac4fd-ef27-42f3-85a8-b1dc94a51e2a"
      },
      "outputs": [
        {
          "output_type": "display_data",
          "data": {
            "text/plain": [
              "  0%|          | 0/140 [00:00<?, ?it/s]"
            ],
            "application/vnd.jupyter.widget-view+json": {
              "version_major": 2,
              "version_minor": 0,
              "model_id": "1299cb8087564b929377a5cef513846f"
            }
          },
          "metadata": {}
        }
      ],
      "source": [
        "# model = ['baseline', 'baseline_finetune', 'baseline_finetune_lr_1e-4', 'baseline_finetune_lr_5e-5']\n",
        "# model_name = ['baseline_norm_losses', 'baseline_norm_losses_off_bn']\n",
        "# model_name = ['v2', 'v2_finetune', 'v2_finetune_lr_1e-5']\n",
        "# model_name = ['ddp']\n",
        "model_name = ['ddp_CelebA', 'ddp_CelebA_gradaccum5', 'ddp_CelebA_gradaccum25']\n",
        "# save_folder = '/content/drive/MyDrive/Projects/ImageInpainting/saved'\n",
        "losses_dict = {}\n",
        "for save_dir in tqdm(list(filter(lambda x: x.rsplit('_', maxsplit=1)[0] in model_name, os.listdir(save_folder)))):\n",
        "    name, iters = save_dir.rsplit('_', maxsplit=1)\n",
        "    path = os.path.join(save_folder, save_dir, 'state.pth')\n",
        "    if name in model_name:\n",
        "        state = torch.load(path, map_location='cpu')\n",
        "        losses = state['losses']\n",
        "        \n",
        "        losses_dict[int(iters)] = losses"
      ]
    },
    {
      "cell_type": "code",
      "execution_count": null,
      "id": "d5b4aa40-1aaa-47d6-81e0-2d95b1e54223",
      "metadata": {
        "tags": [],
        "id": "d5b4aa40-1aaa-47d6-81e0-2d95b1e54223"
      },
      "outputs": [],
      "source": [
        "iters_list = sorted(list(losses_dict.keys()))\n",
        "full_losses = []\n",
        "for i in range(1, len(iters_list)):\n",
        "    cur = len(losses_dict[iters_list[i]])\n",
        "    prev = len(losses_dict[iters_list[i-1]])\n",
        "    if cur < prev:\n",
        "        full_losses += losses_dict[iters_list[i-1]]\n",
        "        \n",
        "full_losses += losses_dict[iters_list[-1]]"
      ]
    },
    {
      "cell_type": "code",
      "execution_count": null,
      "id": "f7edf836-048c-4eb0-a3e0-0697e18ea7c6",
      "metadata": {
        "tags": [],
        "id": "f7edf836-048c-4eb0-a3e0-0697e18ea7c6"
      },
      "outputs": [],
      "source": [
        "def smooth1d(data, window_width):\n",
        "    \"\"\"Сглаживает данные усреднением по окну размера window_width\"\"\"\n",
        "    cumsum_vec = np.cumsum(np.insert(data, 0, 0)) \n",
        "    return (cumsum_vec[window_width:] - cumsum_vec[:-window_width]) / window_width"
      ]
    },
    {
      "cell_type": "code",
      "execution_count": null,
      "id": "9d0e0101-ab35-493d-a44f-5ee665f0c36c",
      "metadata": {
        "id": "9d0e0101-ab35-493d-a44f-5ee665f0c36c"
      },
      "outputs": [],
      "source": [
        "losses_names = ['valid_l1', 'hole_l1', 'perceptual_pred', 'perceptual_comp', 'style_pred', 'style_comp', 'tv']\n",
        "losses = np.array(full_losses).T\n"
      ]
    },
    {
      "cell_type": "code",
      "source": [
        "sum_losses = losses.sum(axis=0)"
      ],
      "metadata": {
        "id": "MJoTO_YqZXe-"
      },
      "id": "MJoTO_YqZXe-",
      "execution_count": null,
      "outputs": []
    },
    {
      "cell_type": "code",
      "source": [
        "fig, ax = plt.subplots(figsize=(10, 10))\n",
        "# ax.set_yscale('log')\n",
        "# for loss, name in zip(losses, losses_names):\n",
        "#     ax.plot(smooth1d(loss, 2000), label=name)\n",
        "    # ax.plot(loss, label=name)\n",
        "ax.plot(smooth1d(full_losses[-2000:], 400))\n",
        "# ax.plot(smooth1d(sum_losses, 2000), label='sum')\n",
        "# ax.set_xlim(80000, 120000)\n",
        "# ax.set_ylim(0, 2.5)\n",
        "# ax.set_ylim(0.43, 0.46)\n",
        "\n",
        "ax.legend()\n",
        "ax.grid()\n",
        "plt.show()"
      ],
      "metadata": {
        "colab": {
          "base_uri": "https://localhost:8080/",
          "height": 609
        },
        "id": "IMi3LlZ1LEAQ",
        "outputId": "36f553b7-a8d9-4f30-96dd-8125464790ec"
      },
      "id": "IMi3LlZ1LEAQ",
      "execution_count": null,
      "outputs": [
        {
          "output_type": "stream",
          "name": "stderr",
          "text": [
            "WARNING:matplotlib.legend:No handles with labels found to put in legend.\n"
          ]
        },
        {
          "output_type": "display_data",
          "data": {
            "text/plain": [
              "<Figure size 720x720 with 1 Axes>"
            ],
            "image/png": "[encoded data removed]"
          },
          "metadata": {
            "needs_background": "light"
          }
        }
      ]
    },
    {
      "cell_type": "code",
      "execution_count": null,
      "id": "c3892939-9a60-49aa-9cfb-1b0043266db7",
      "metadata": {
        "id": "c3892939-9a60-49aa-9cfb-1b0043266db7",
        "outputId": "dd41c46e-2a36-48c3-d2ce-53994e9e7c8c"
      },
      "outputs": [
        {
          "data": {
            "image/png": "[encoded data removed]",
            "text/plain": [
              "<Figure size 720x720 with 1 Axes>"
            ]
          },
          "metadata": {
            "needs_background": "light"
          },
          "output_type": "display_data"
        }
      ],
      "source": [
        "# norm_losses\n",
        "fig, ax = plt.subplots(figsize=(10, 10))\n",
        "ax.set_yscale('log')\n",
        "for loss, name in zip(losses, losses_names):\n",
        "    ax.plot(smooth1d(loss, 500), label=name)\n",
        "    # ax.plot(loss, label=name)\n",
        "ax.legend()\n",
        "ax.grid()\n",
        "plt.show()"
      ]
    },
    {
      "cell_type": "code",
      "execution_count": null,
      "id": "181d6892-d0df-46ca-8029-c44154a1b639",
      "metadata": {
        "id": "181d6892-d0df-46ca-8029-c44154a1b639"
      },
      "outputs": [],
      "source": [
        ""
      ]
    },
    {
      "cell_type": "code",
      "execution_count": null,
      "id": "5b422001-7fc7-4f44-8489-c893aca7bcfc",
      "metadata": {
        "id": "5b422001-7fc7-4f44-8489-c893aca7bcfc"
      },
      "outputs": [],
      "source": [
        ""
      ]
    }
  ],
  "metadata": {
    "kernelspec": {
      "display_name": "Python 3 (ipykernel)",
      "language": "python",
      "name": "python3"
    },
    "language_info": {
      "codemirror_mode": {
        "name": "ipython",
        "version": 3
      },
      "file_extension": ".py",
      "mimetype": "text/x-python",
      "name": "python",
      "nbconvert_exporter": "python",
      "pygments_lexer": "ipython3",
      "version": "3.8.13"
    },
    "colab": {
      "name": "FID_and_losses_load",
      "provenance": [],
      "collapsed_sections": [
        "MWITHXzcQvaC",
        "lxg-QCS1Sssk",
        "hJFkDXKAaSr2",
        "xdjbS1VlaA7o",
        "zZCp32PVZ45x"
      ]
    },
    "widgets": {
      "application/vnd.jupyter.widget-state+json": {
        "1299cb8087564b929377a5cef513846f": {
          "model_module": "@jupyter-widgets/controls",
          "model_name": "HBoxModel",
          "model_module_version": "1.5.0",
          "state": {
            "_dom_classes": [],
            "_model_module": "@jupyter-widgets/controls",
            "_model_module_version": "1.5.0",
            "_model_name": "HBoxModel",
            "_view_count": null,
            "_view_module": "@jupyter-widgets/controls",
            "_view_module_version": "1.5.0",
            "_view_name": "HBoxView",
            "box_style": "",
            "children": [
              "IPY_MODEL_9d5819e11ea54c26b23d8189ae4bc7c9",
              "IPY_MODEL_2cd7ffede6de4f4594b30f747580a9aa",
              "IPY_MODEL_ddb196debcf04622aa5674b56f5e531a"
            ],
            "layout": "IPY_MODEL_91bccafaf1c44eaa826fdb120a7c0787"
          }
        },
        "9d5819e11ea54c26b23d8189ae4bc7c9": {
          "model_module": "@jupyter-widgets/controls",
          "model_name": "HTMLModel",
          "model_module_version": "1.5.0",
          "state": {
            "_dom_classes": [],
            "_model_module": "@jupyter-widgets/controls",
            "_model_module_version": "1.5.0",
            "_model_name": "HTMLModel",
            "_view_count": null,
            "_view_module": "@jupyter-widgets/controls",
            "_view_module_version": "1.5.0",
            "_view_name": "HTMLView",
            "description": "",
            "description_tooltip": null,
            "layout": "IPY_MODEL_5604298bb5034676a6608741b4bed266",
            "placeholder": "​",
            "style": "IPY_MODEL_7edf2ca28c1d4b0cb12470331b9dd7b1",
            "value": "100%"
          }
        },
        "2cd7ffede6de4f4594b30f747580a9aa": {
          "model_module": "@jupyter-widgets/controls",
          "model_name": "FloatProgressModel",
          "model_module_version": "1.5.0",
          "state": {
            "_dom_classes": [],
            "_model_module": "@jupyter-widgets/controls",
            "_model_module_version": "1.5.0",
            "_model_name": "FloatProgressModel",
            "_view_count": null,
            "_view_module": "@jupyter-widgets/controls",
            "_view_module_version": "1.5.0",
            "_view_name": "ProgressView",
            "bar_style": "success",
            "description": "",
            "description_tooltip": null,
            "layout": "IPY_MODEL_c8b3d48954a7418ca22de9b4dcb4b1fa",
            "max": 140,
            "min": 0,
            "orientation": "horizontal",
            "style": "IPY_MODEL_dd2392eaec704dc08e33a2d59b835d58",
            "value": 140
          }
        },
        "ddb196debcf04622aa5674b56f5e531a": {
          "model_module": "@jupyter-widgets/controls",
          "model_name": "HTMLModel",
          "model_module_version": "1.5.0",
          "state": {
            "_dom_classes": [],
            "_model_module": "@jupyter-widgets/controls",
            "_model_module_version": "1.5.0",
            "_model_name": "HTMLModel",
            "_view_count": null,
            "_view_module": "@jupyter-widgets/controls",
            "_view_module_version": "1.5.0",
            "_view_name": "HTMLView",
            "description": "",
            "description_tooltip": null,
            "layout": "IPY_MODEL_928329f3537c450ea3e2b742673c0594",
            "placeholder": "​",
            "style": "IPY_MODEL_b00dd3df59a24c74b8fb0a23e97db089",
            "value": " 140/140 [15:49&lt;00:00,  5.93s/it]"
          }
        },
        "91bccafaf1c44eaa826fdb120a7c0787": {
          "model_module": "@jupyter-widgets/base",
          "model_name": "LayoutModel",
          "model_module_version": "1.2.0",
          "state": {
            "_model_module": "@jupyter-widgets/base",
            "_model_module_version": "1.2.0",
            "_model_name": "LayoutModel",
            "_view_count": null,
            "_view_module": "@jupyter-widgets/base",
            "_view_module_version": "1.2.0",
            "_view_name": "LayoutView",
            "align_content": null,
            "align_items": null,
            "align_self": null,
            "border": null,
            "bottom": null,
            "display": null,
            "flex": null,
            "flex_flow": null,
            "grid_area": null,
            "grid_auto_columns": null,
            "grid_auto_flow": null,
            "grid_auto_rows": null,
            "grid_column": null,
            "grid_gap": null,
            "grid_row": null,
            "grid_template_areas": null,
            "grid_template_columns": null,
            "grid_template_rows": null,
            "height": null,
            "justify_content": null,
            "justify_items": null,
            "left": null,
            "margin": null,
            "max_height": null,
            "max_width": null,
            "min_height": null,
            "min_width": null,
            "object_fit": null,
            "object_position": null,
            "order": null,
            "overflow": null,
            "overflow_x": null,
            "overflow_y": null,
            "padding": null,
            "right": null,
            "top": null,
            "visibility": null,
            "width": null
          }
        },
        "5604298bb5034676a6608741b4bed266": {
          "model_module": "@jupyter-widgets/base",
          "model_name": "LayoutModel",
          "model_module_version": "1.2.0",
          "state": {
            "_model_module": "@jupyter-widgets/base",
            "_model_module_version": "1.2.0",
            "_model_name": "LayoutModel",
            "_view_count": null,
            "_view_module": "@jupyter-widgets/base",
            "_view_module_version": "1.2.0",
            "_view_name": "LayoutView",
            "align_content": null,
            "align_items": null,
            "align_self": null,
            "border": null,
            "bottom": null,
            "display": null,
            "flex": null,
            "flex_flow": null,
            "grid_area": null,
            "grid_auto_columns": null,
            "grid_auto_flow": null,
            "grid_auto_rows": null,
            "grid_column": null,
            "grid_gap": null,
            "grid_row": null,
            "grid_template_areas": null,
            "grid_template_columns": null,
            "grid_template_rows": null,
            "height": null,
            "justify_content": null,
            "justify_items": null,
            "left": null,
            "margin": null,
            "max_height": null,
            "max_width": null,
            "min_height": null,
            "min_width": null,
            "object_fit": null,
            "object_position": null,
            "order": null,
            "overflow": null,
            "overflow_x": null,
            "overflow_y": null,
            "padding": null,
            "right": null,
            "top": null,
            "visibility": null,
            "width": null
          }
        },
        "7edf2ca28c1d4b0cb12470331b9dd7b1": {
          "model_module": "@jupyter-widgets/controls",
          "model_name": "DescriptionStyleModel",
          "model_module_version": "1.5.0",
          "state": {
            "_model_module": "@jupyter-widgets/controls",
            "_model_module_version": "1.5.0",
            "_model_name": "DescriptionStyleModel",
            "_view_count": null,
            "_view_module": "@jupyter-widgets/base",
            "_view_module_version": "1.2.0",
            "_view_name": "StyleView",
            "description_width": ""
          }
        },
        "c8b3d48954a7418ca22de9b4dcb4b1fa": {
          "model_module": "@jupyter-widgets/base",
          "model_name": "LayoutModel",
          "model_module_version": "1.2.0",
          "state": {
            "_model_module": "@jupyter-widgets/base",
            "_model_module_version": "1.2.0",
            "_model_name": "LayoutModel",
            "_view_count": null,
            "_view_module": "@jupyter-widgets/base",
            "_view_module_version": "1.2.0",
            "_view_name": "LayoutView",
            "align_content": null,
            "align_items": null,
            "align_self": null,
            "border": null,
            "bottom": null,
            "display": null,
            "flex": null,
            "flex_flow": null,
            "grid_area": null,
            "grid_auto_columns": null,
            "grid_auto_flow": null,
            "grid_auto_rows": null,
            "grid_column": null,
            "grid_gap": null,
            "grid_row": null,
            "grid_template_areas": null,
            "grid_template_columns": null,
            "grid_template_rows": null,
            "height": null,
            "justify_content": null,
            "justify_items": null,
            "left": null,
            "margin": null,
            "max_height": null,
            "max_width": null,
            "min_height": null,
            "min_width": null,
            "object_fit": null,
            "object_position": null,
            "order": null,
            "overflow": null,
            "overflow_x": null,
            "overflow_y": null,
            "padding": null,
            "right": null,
            "top": null,
            "visibility": null,
            "width": null
          }
        },
        "dd2392eaec704dc08e33a2d59b835d58": {
          "model_module": "@jupyter-widgets/controls",
          "model_name": "ProgressStyleModel",
          "model_module_version": "1.5.0",
          "state": {
            "_model_module": "@jupyter-widgets/controls",
            "_model_module_version": "1.5.0",
            "_model_name": "ProgressStyleModel",
            "_view_count": null,
            "_view_module": "@jupyter-widgets/base",
            "_view_module_version": "1.2.0",
            "_view_name": "StyleView",
            "bar_color": null,
            "description_width": ""
          }
        },
        "928329f3537c450ea3e2b742673c0594": {
          "model_module": "@jupyter-widgets/base",
          "model_name": "LayoutModel",
          "model_module_version": "1.2.0",
          "state": {
            "_model_module": "@jupyter-widgets/base",
            "_model_module_version": "1.2.0",
            "_model_name": "LayoutModel",
            "_view_count": null,
            "_view_module": "@jupyter-widgets/base",
            "_view_module_version": "1.2.0",
            "_view_name": "LayoutView",
            "align_content": null,
            "align_items": null,
            "align_self": null,
            "border": null,
            "bottom": null,
            "display": null,
            "flex": null,
            "flex_flow": null,
            "grid_area": null,
            "grid_auto_columns": null,
            "grid_auto_flow": null,
            "grid_auto_rows": null,
            "grid_column": null,
            "grid_gap": null,
            "grid_row": null,
            "grid_template_areas": null,
            "grid_template_columns": null,
            "grid_template_rows": null,
            "height": null,
            "justify_content": null,
            "justify_items": null,
            "left": null,
            "margin": null,
            "max_height": null,
            "max_width": null,
            "min_height": null,
            "min_width": null,
            "object_fit": null,
            "object_position": null,
            "order": null,
            "overflow": null,
            "overflow_x": null,
            "overflow_y": null,
            "padding": null,
            "right": null,
            "top": null,
            "visibility": null,
            "width": null
          }
        },
        "b00dd3df59a24c74b8fb0a23e97db089": {
          "model_module": "@jupyter-widgets/controls",
          "model_name": "DescriptionStyleModel",
          "model_module_version": "1.5.0",
          "state": {
            "_model_module": "@jupyter-widgets/controls",
            "_model_module_version": "1.5.0",
            "_model_name": "DescriptionStyleModel",
            "_view_count": null,
            "_view_module": "@jupyter-widgets/base",
            "_view_module_version": "1.2.0",
            "_view_name": "StyleView",
            "description_width": ""
          }
        },
        "862f751b80ad4ae7924a92082c03c3e3": {
          "model_module": "@jupyter-widgets/controls",
          "model_name": "HBoxModel",
          "model_module_version": "1.5.0",
          "state": {
            "_dom_classes": [],
            "_model_module": "@jupyter-widgets/controls",
            "_model_module_version": "1.5.0",
            "_model_name": "HBoxModel",
            "_view_count": null,
            "_view_module": "@jupyter-widgets/controls",
            "_view_module_version": "1.5.0",
            "_view_name": "HBoxView",
            "box_style": "",
            "children": [
              "IPY_MODEL_b1a6f36f81144e2f9e1fe7520c011090",
              "IPY_MODEL_12f303f0ec684a64ba2f5d79043a29fa",
              "IPY_MODEL_867ab10261834cc397e918ccd1883eaf"
            ],
            "layout": "IPY_MODEL_1e6d47df3db64de2aee055eaf0b22292"
          }
        },
        "b1a6f36f81144e2f9e1fe7520c011090": {
          "model_module": "@jupyter-widgets/controls",
          "model_name": "HTMLModel",
          "model_module_version": "1.5.0",
          "state": {
            "_dom_classes": [],
            "_model_module": "@jupyter-widgets/controls",
            "_model_module_version": "1.5.0",
            "_model_name": "HTMLModel",
            "_view_count": null,
            "_view_module": "@jupyter-widgets/controls",
            "_view_module_version": "1.5.0",
            "_view_name": "HTMLView",
            "description": "",
            "description_tooltip": null,
            "layout": "IPY_MODEL_c65e338de8c64cfe8b9a94235530566d",
            "placeholder": "​",
            "style": "IPY_MODEL_4ad9a89558cf42508d35fb8f04ad0ef8",
            "value": "100%"
          }
        },
        "12f303f0ec684a64ba2f5d79043a29fa": {
          "model_module": "@jupyter-widgets/controls",
          "model_name": "FloatProgressModel",
          "model_module_version": "1.5.0",
          "state": {
            "_dom_classes": [],
            "_model_module": "@jupyter-widgets/controls",
            "_model_module_version": "1.5.0",
            "_model_name": "FloatProgressModel",
            "_view_count": null,
            "_view_module": "@jupyter-widgets/controls",
            "_view_module_version": "1.5.0",
            "_view_name": "ProgressView",
            "bar_style": "success",
            "description": "",
            "description_tooltip": null,
            "layout": "IPY_MODEL_71c214e9c433413b83d0c825affef062",
            "max": 100,
            "min": 0,
            "orientation": "horizontal",
            "style": "IPY_MODEL_5f01e0875f804f10a20aa2df335b6d2b",
            "value": 100
          }
        },
        "867ab10261834cc397e918ccd1883eaf": {
          "model_module": "@jupyter-widgets/controls",
          "model_name": "HTMLModel",
          "model_module_version": "1.5.0",
          "state": {
            "_dom_classes": [],
            "_model_module": "@jupyter-widgets/controls",
            "_model_module_version": "1.5.0",
            "_model_name": "HTMLModel",
            "_view_count": null,
            "_view_module": "@jupyter-widgets/controls",
            "_view_module_version": "1.5.0",
            "_view_name": "HTMLView",
            "description": "",
            "description_tooltip": null,
            "layout": "IPY_MODEL_c61835c7e72b4577839517b38cc6b3e8",
            "placeholder": "​",
            "style": "IPY_MODEL_c57a4930b2ae44d6a9deae7262ca77a6",
            "value": " 100/100 [02:53&lt;00:00,  1.70s/it]"
          }
        },
        "1e6d47df3db64de2aee055eaf0b22292": {
          "model_module": "@jupyter-widgets/base",
          "model_name": "LayoutModel",
          "model_module_version": "1.2.0",
          "state": {
            "_model_module": "@jupyter-widgets/base",
            "_model_module_version": "1.2.0",
            "_model_name": "LayoutModel",
            "_view_count": null,
            "_view_module": "@jupyter-widgets/base",
            "_view_module_version": "1.2.0",
            "_view_name": "LayoutView",
            "align_content": null,
            "align_items": null,
            "align_self": null,
            "border": null,
            "bottom": null,
            "display": null,
            "flex": null,
            "flex_flow": null,
            "grid_area": null,
            "grid_auto_columns": null,
            "grid_auto_flow": null,
            "grid_auto_rows": null,
            "grid_column": null,
            "grid_gap": null,
            "grid_row": null,
            "grid_template_areas": null,
            "grid_template_columns": null,
            "grid_template_rows": null,
            "height": null,
            "justify_content": null,
            "justify_items": null,
            "left": null,
            "margin": null,
            "max_height": null,
            "max_width": null,
            "min_height": null,
            "min_width": null,
            "object_fit": null,
            "object_position": null,
            "order": null,
            "overflow": null,
            "overflow_x": null,
            "overflow_y": null,
            "padding": null,
            "right": null,
            "top": null,
            "visibility": null,
            "width": null
          }
        },
        "c65e338de8c64cfe8b9a94235530566d": {
          "model_module": "@jupyter-widgets/base",
          "model_name": "LayoutModel",
          "model_module_version": "1.2.0",
          "state": {
            "_model_module": "@jupyter-widgets/base",
            "_model_module_version": "1.2.0",
            "_model_name": "LayoutModel",
            "_view_count": null,
            "_view_module": "@jupyter-widgets/base",
            "_view_module_version": "1.2.0",
            "_view_name": "LayoutView",
            "align_content": null,
            "align_items": null,
            "align_self": null,
            "border": null,
            "bottom": null,
            "display": null,
            "flex": null,
            "flex_flow": null,
            "grid_area": null,
            "grid_auto_columns": null,
            "grid_auto_flow": null,
            "grid_auto_rows": null,
            "grid_column": null,
            "grid_gap": null,
            "grid_row": null,
            "grid_template_areas": null,
            "grid_template_columns": null,
            "grid_template_rows": null,
            "height": null,
            "justify_content": null,
            "justify_items": null,
            "left": null,
            "margin": null,
            "max_height": null,
            "max_width": null,
            "min_height": null,
            "min_width": null,
            "object_fit": null,
            "object_position": null,
            "order": null,
            "overflow": null,
            "overflow_x": null,
            "overflow_y": null,
            "padding": null,
            "right": null,
            "top": null,
            "visibility": null,
            "width": null
          }
        },
        "4ad9a89558cf42508d35fb8f04ad0ef8": {
          "model_module": "@jupyter-widgets/controls",
          "model_name": "DescriptionStyleModel",
          "model_module_version": "1.5.0",
          "state": {
            "_model_module": "@jupyter-widgets/controls",
            "_model_module_version": "1.5.0",
            "_model_name": "DescriptionStyleModel",
            "_view_count": null,
            "_view_module": "@jupyter-widgets/base",
            "_view_module_version": "1.2.0",
            "_view_name": "StyleView",
            "description_width": ""
          }
        },
        "71c214e9c433413b83d0c825affef062": {
          "model_module": "@jupyter-widgets/base",
          "model_name": "LayoutModel",
          "model_module_version": "1.2.0",
          "state": {
            "_model_module": "@jupyter-widgets/base",
            "_model_module_version": "1.2.0",
            "_model_name": "LayoutModel",
            "_view_count": null,
            "_view_module": "@jupyter-widgets/base",
            "_view_module_version": "1.2.0",
            "_view_name": "LayoutView",
            "align_content": null,
            "align_items": null,
            "align_self": null,
            "border": null,
            "bottom": null,
            "display": null,
            "flex": null,
            "flex_flow": null,
            "grid_area": null,
            "grid_auto_columns": null,
            "grid_auto_flow": null,
            "grid_auto_rows": null,
            "grid_column": null,
            "grid_gap": null,
            "grid_row": null,
            "grid_template_areas": null,
            "grid_template_columns": null,
            "grid_template_rows": null,
            "height": null,
            "justify_content": null,
            "justify_items": null,
            "left": null,
            "margin": null,
            "max_height": null,
            "max_width": null,
            "min_height": null,
            "min_width": null,
            "object_fit": null,
            "object_position": null,
            "order": null,
            "overflow": null,
            "overflow_x": null,
            "overflow_y": null,
            "padding": null,
            "right": null,
            "top": null,
            "visibility": null,
            "width": null
          }
        },
        "5f01e0875f804f10a20aa2df335b6d2b": {
          "model_module": "@jupyter-widgets/controls",
          "model_name": "ProgressStyleModel",
          "model_module_version": "1.5.0",
          "state": {
            "_model_module": "@jupyter-widgets/controls",
            "_model_module_version": "1.5.0",
            "_model_name": "ProgressStyleModel",
            "_view_count": null,
            "_view_module": "@jupyter-widgets/base",
            "_view_module_version": "1.2.0",
            "_view_name": "StyleView",
            "bar_color": null,
            "description_width": ""
          }
        },
        "c61835c7e72b4577839517b38cc6b3e8": {
          "model_module": "@jupyter-widgets/base",
          "model_name": "LayoutModel",
          "model_module_version": "1.2.0",
          "state": {
            "_model_module": "@jupyter-widgets/base",
            "_model_module_version": "1.2.0",
            "_model_name": "LayoutModel",
            "_view_count": null,
            "_view_module": "@jupyter-widgets/base",
            "_view_module_version": "1.2.0",
            "_view_name": "LayoutView",
            "align_content": null,
            "align_items": null,
            "align_self": null,
            "border": null,
            "bottom": null,
            "display": null,
            "flex": null,
            "flex_flow": null,
            "grid_area": null,
            "grid_auto_columns": null,
            "grid_auto_flow": null,
            "grid_auto_rows": null,
            "grid_column": null,
            "grid_gap": null,
            "grid_row": null,
            "grid_template_areas": null,
            "grid_template_columns": null,
            "grid_template_rows": null,
            "height": null,
            "justify_content": null,
            "justify_items": null,
            "left": null,
            "margin": null,
            "max_height": null,
            "max_width": null,
            "min_height": null,
            "min_width": null,
            "object_fit": null,
            "object_position": null,
            "order": null,
            "overflow": null,
            "overflow_x": null,
            "overflow_y": null,
            "padding": null,
            "right": null,
            "top": null,
            "visibility": null,
            "width": null
          }
        },
        "c57a4930b2ae44d6a9deae7262ca77a6": {
          "model_module": "@jupyter-widgets/controls",
          "model_name": "DescriptionStyleModel",
          "model_module_version": "1.5.0",
          "state": {
            "_model_module": "@jupyter-widgets/controls",
            "_model_module_version": "1.5.0",
            "_model_name": "DescriptionStyleModel",
            "_view_count": null,
            "_view_module": "@jupyter-widgets/base",
            "_view_module_version": "1.2.0",
            "_view_name": "StyleView",
            "description_width": ""
          }
        }
      }
    },
    "gpuClass": "standard",
    "accelerator": "GPU"
  },
  "nbformat": 4,
  "nbformat_minor": 5
}